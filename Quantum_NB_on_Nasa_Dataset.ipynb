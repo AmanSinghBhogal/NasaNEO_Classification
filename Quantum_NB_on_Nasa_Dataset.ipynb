{
  "cells": [
    {
      "cell_type": "code",
      "execution_count": 366,
      "metadata": {
        "colab": {
          "base_uri": "https://localhost:8080/"
        },
        "id": "XOMi_er89a3N",
        "outputId": "e5bf52b1-1d6c-4856-8cdf-470be5c5d37f"
      },
      "outputs": [],
      "source": [
        "# pip install qiskit"
      ]
    },
    {
      "cell_type": "code",
      "execution_count": 367,
      "metadata": {
        "colab": {
          "base_uri": "https://localhost:8080/"
        },
        "id": "gks8yV1c9eym",
        "outputId": "4c428edb-080a-49e0-f126-740f8a792418"
      },
      "outputs": [],
      "source": [
        "# pip install qiskit.Aer"
      ]
    },
    {
      "cell_type": "code",
      "execution_count": 368,
      "metadata": {
        "id": "OVqJ4FE8890v"
      },
      "outputs": [],
      "source": [
        "import pandas as pd\n",
        "from sklearn.model_selection import train_test_split\n",
        "from qiskit import QuantumCircuit, execute, Aer\n",
        "from qiskit import ClassicalRegister, QuantumRegister\n",
        "from qiskit.visualization import plot_histogram\n",
        "import matplotlib.pyplot as plt\n",
        "from math import asin, sqrt, pi, log\n",
        "from statistics import mean\n",
        "import pandas as pd\n",
        "from sklearn.metrics import confusion_matrix, precision_score, recall_score"
      ]
    },
    {
      "cell_type": "code",
      "execution_count": 369,
      "metadata": {
        "id": "ghwtJXPx9RUX"
      },
      "outputs": [],
      "source": [
        "# Loaded the Dataset\n",
        "data = pd.read_csv('neo_v2.csv')"
      ]
    },
    {
      "cell_type": "code",
      "execution_count": 370,
      "metadata": {
        "colab": {
          "base_uri": "https://localhost:8080/"
        },
        "id": "-f6My0999ZcI",
        "outputId": "3faa6eac-4f03-472d-d5b4-18c5facd43a3"
      },
      "outputs": [
        {
          "name": "stdout",
          "output_type": "stream",
          "text": [
            "\n",
            "\n",
            "The Mean Max Diameter is:  0.28494685223540667\n",
            "The Mean Relative Velocity is:  48066.91891764293\n"
          ]
        }
      ],
      "source": [
        "# Writing code for Pre-Procesing\n",
        "\n",
        "cat_max_dia = []\n",
        "cat_RV = []\n",
        "cat_miss = []\n",
        "\n",
        "max_dia_mean = mean(data['est_diameter_max'])\n",
        "Rv_mean = mean(data['relative_velocity'])\n",
        "\n",
        "print(\"\\n\\nThe Mean Max Diameter is: \", max_dia_mean)\n",
        "print(\"The Mean Relative Velocity is: \", Rv_mean)"
      ]
    },
    {
      "cell_type": "code",
      "execution_count": 371,
      "metadata": {
        "id": "DmlERwgolXDy"
      },
      "outputs": [],
      "source": [
        "for i,j, z in zip(data['est_diameter_max'], data['relative_velocity'], data['miss_distance']):\n",
        "    if i>=max_dia_mean:\n",
        "        cat_max_dia.append(\"Large\")\n",
        "    else :\n",
        "        cat_max_dia.append(\"Small\")\n",
        "\n",
        "    if j>=Rv_mean:\n",
        "        cat_RV.append(\"Fast\")\n",
        "    else:\n",
        "        cat_RV.append(\"Slow\")\n",
        "\n",
        "    if z>=0 and z< 25000000:\n",
        "        cat_miss.append(\"Less\")\n",
        "    elif z>= 25000000 and z<50000000:\n",
        "        cat_miss.append(\"Medium\")\n",
        "    else:\n",
        "        cat_miss.append(\"More\")\n",
        "\n",
        "processed_data = pd.DataFrame(list(zip(data['est_diameter_max'], data['relative_velocity'],data['miss_distance'], cat_max_dia, cat_RV,cat_miss, data['hazardous'])),columns=['Max_Diameter','Relative_Velocity','Miss_Distance', 'Categorized_Diameter', 'Categorized_Relative_Vel','Categorised_Miss_Distance','Hazardous'])\n"
      ]
    },
    {
      "cell_type": "code",
      "execution_count": 372,
      "metadata": {
        "id": "sNUBmlDq9zVU"
      },
      "outputs": [],
      "source": [
        "# Saving the Processed Data to get a better view\n",
        "processed_data.to_csv('processedData.csv')"
      ]
    },
    {
      "cell_type": "code",
      "execution_count": 373,
      "metadata": {
        "id": "2odOpvG191fF"
      },
      "outputs": [],
      "source": [
        "# Splitted the Dataset into Training and Testing\n",
        "train_input, test_input = train_test_split(processed_data, test_size=0.3, random_state=50)"
      ]
    },
    {
      "cell_type": "code",
      "execution_count": 374,
      "metadata": {
        "colab": {
          "base_uri": "https://localhost:8080/"
        },
        "id": "n6XiVBlV96mc",
        "outputId": "bdb668cc-0a0b-4fb3-f746-7c436a213d0a"
      },
      "outputs": [
        {
          "name": "stdout",
          "output_type": "stream",
          "text": [
            "There are 63585 Training Records and 27251 Testing Records\n",
            "Train Dataset: No of True: 6260, No. False: 57325\n",
            "Test Dataset: No of True: 2580, No. False: 24671\n"
          ]
        }
      ],
      "source": [
        "# Printing Number of records in training and testing\n",
        "print(\"There are {} Training Records and {} Testing Records\".format(train_input.shape[0], test_input.shape[0]))\n",
        "\n",
        "# Printing the Number of True and False Records in Train and Test Dataset\n",
        "print(\"Train Dataset: No of True: {}, No. False: {}\".format(len(train_input[train_input['Hazardous'] == True]), len(train_input[train_input['Hazardous'] == False])))\n",
        "print(\"Test Dataset: No of True: {}, No. False: {}\".format(len(test_input[test_input['Hazardous'] == True]), len(test_input[test_input['Hazardous'] == False])))\n"
      ]
    },
    {
      "cell_type": "code",
      "execution_count": 375,
      "metadata": {
        "id": "_s4DkRCX994u"
      },
      "outputs": [],
      "source": [
        "# Probability of Max Diameter:\n",
        "def prob_hazard_calc(df, category_name, category_val):\n",
        "    pop = df[df[category_name] == category_val]\n",
        "    hazard_pop = pop[pop['Hazardous'] == True]\n",
        "    p_pop = len(hazard_pop)/len(pop)\n",
        "    return p_pop, len(pop)\n"
      ]
    },
    {
      "cell_type": "code",
      "execution_count": 376,
      "metadata": {
        "colab": {
          "base_uri": "https://localhost:8080/"
        },
        "id": "FEafE2cbbf0C",
        "outputId": "4895ee0c-81da-423d-cb7c-fa030fb3c427"
      },
      "outputs": [
        {
          "name": "stdout",
          "output_type": "stream",
          "text": [
            "0.024916261480280928 46275\n",
            "0.2950317735413056 17310\n"
          ]
        }
      ],
      "source": [
        "# For Max Diameter:\n",
        "\n",
        "# for small:\n",
        "p_small, pop_small = prob_hazard_calc(train_input, \"Categorized_Diameter\", \"Small\")\n",
        "print(p_small, pop_small)\n",
        "\n",
        "# for Large:\n",
        "p_large, pop_large = prob_hazard_calc(train_input, \"Categorized_Diameter\", \"Large\")\n",
        "print(p_large, pop_large)"
      ]
    },
    {
      "cell_type": "code",
      "execution_count": 377,
      "metadata": {
        "colab": {
          "base_uri": "https://localhost:8080/"
        },
        "id": "UibYspIBbvUd",
        "outputId": "4503c711-9576-4a62-c905-59a58c16ea9a"
      },
      "outputs": [
        {
          "name": "stdout",
          "output_type": "stream",
          "text": [
            "\n",
            "\n",
            "Printing Chances of Max Diameter Objects given they are hazardous:\n",
            "\n",
            "46275 Small Diameter objects had 0.024916261480280928 chances of being hazardous\n",
            "17310 Large Diameter objects had 0.2950317735413056 chances of being hazardous\n"
          ]
        }
      ],
      "source": [
        "print(\"\\n\\nPrinting Chances of Max Diameter Objects given they are hazardous:\\n\")\n",
        "print(\"{} Small Diameter objects had {} chances of being hazardous\".format(pop_small, p_small))\n",
        "print(\"{} Large Diameter objects had {} chances of being hazardous\".format(pop_large, p_large))\n"
      ]
    },
    {
      "cell_type": "code",
      "execution_count": 378,
      "metadata": {
        "id": "--Lr8Xcvdsr7"
      },
      "outputs": [],
      "source": [
        " # For Relative Velocity:\n",
        "\n",
        "# for Slow:\n",
        "p_slow, pop_slow = prob_hazard_calc(train_input, \"Categorized_Relative_Vel\", \"Slow\")\n",
        "# print(p_slow)\n",
        "\n",
        "# for Fast:\n",
        "p_fast, pop_fast = prob_hazard_calc(train_input, \"Categorized_Relative_Vel\", \"Fast\")\n",
        "# print(p_fast)"
      ]
    },
    {
      "cell_type": "code",
      "execution_count": 379,
      "metadata": {
        "colab": {
          "base_uri": "https://localhost:8080/"
        },
        "id": "3L3Tmj7eeK17",
        "outputId": "a1d50059-4b7d-4660-f210-a505b9a283c7"
      },
      "outputs": [
        {
          "name": "stdout",
          "output_type": "stream",
          "text": [
            "\n",
            "\n",
            "Printing Chances of Relative Velocity Objects given they are hazardous:\n",
            "\n",
            "35499 Slow Relative Velocity objects had 0.058705879038846165 chances of being hazardous\n",
            "28086 Fast Relative Velocity objects had 0.1486861781670583 chances of being hazardous\n"
          ]
        }
      ],
      "source": [
        "print(\"\\n\\nPrinting Chances of Relative Velocity Objects given they are hazardous:\\n\")\n",
        "print(\"{} Slow Relative Velocity objects had {} chances of being hazardous\".format(pop_slow, p_slow))\n",
        "print(\"{} Fast Relative Velocity objects had {} chances of being hazardous\".format(pop_fast, p_fast))\n"
      ]
    },
    {
      "cell_type": "code",
      "execution_count": 380,
      "metadata": {
        "id": "VA1-sQ8apBrv"
      },
      "outputs": [],
      "source": [
        "# For Miss Distance:\n",
        "\n",
        "# For Less\n",
        "p_less, pop_less = prob_hazard_calc(train_input, \"Categorised_Miss_Distance\", \"Less\")\n",
        "# print(p_less, pop_less)\n",
        "\n",
        "# For Medium\n",
        "p_med, pop_med = prob_hazard_calc(train_input, \"Categorised_Miss_Distance\", \"Medium\")\n",
        "# print(p_med, pop_med)\n",
        "\n",
        "# For More:\n",
        "p_more, pop_more = prob_hazard_calc(train_input, \"Categorised_Miss_Distance\", \"More\")\n",
        "# print(p_more, pop_more)"
      ]
    },
    {
      "cell_type": "code",
      "execution_count": 381,
      "metadata": {
        "colab": {
          "base_uri": "https://localhost:8080/"
        },
        "id": "OCaNTcLIpk9v",
        "outputId": "eb492023-1a84-44e3-aeb1-a64414be68aa"
      },
      "outputs": [
        {
          "name": "stdout",
          "output_type": "stream",
          "text": [
            "\n",
            "\n",
            "Printing Chances of Miss Distance Objects given they are hazardous:\n",
            "\n",
            "21698 Less Miss Distance objects had 0.0861369711494147 chances of being hazardous\n",
            "20413 Medium Miss Distance objects had 0.10209180424239456 chances of being hazardous\n",
            "21474 More Miss Distance objects had 0.10743224364347582 chances of being hazardous\n"
          ]
        }
      ],
      "source": [
        "print(\"\\n\\nPrinting Chances of Miss Distance Objects given they are hazardous:\\n\")\n",
        "print(\"{} Less Miss Distance objects had {} chances of being hazardous\".format(pop_less, p_less))\n",
        "print(\"{} Medium Miss Distance objects had {} chances of being hazardous\".format(pop_med, p_med))\n",
        "print(\"{} More Miss Distance objects had {} chances of being hazardous\".format(pop_more, p_more))"
      ]
    },
    {
      "cell_type": "code",
      "execution_count": 382,
      "metadata": {
        "id": "5-a5veHQeQ2t"
      },
      "outputs": [],
      "source": [
        "# Specifying the marginal probability\n",
        "def prob_to_angle(prob):\n",
        "    \"\"\"\n",
        "    Converts a given P(psi) value into an equivalent theta value.\n",
        "    \"\"\"\n",
        "    return 2*asin(sqrt(prob))"
      ]
    },
    {
      "cell_type": "code",
      "execution_count": 383,
      "metadata": {
        "colab": {
          "base_uri": "https://localhost:8080/"
        },
        "id": "Tnib3o4IqIps",
        "outputId": "ca0c55bf-1c8f-4495-abed-36a1e2dcac88"
      },
      "outputs": [
        {
          "data": {
            "text/plain": [
              "<qiskit.circuit.instructionset.InstructionSet at 0x26ca012ae00>"
            ]
          },
          "execution_count": 383,
          "metadata": {},
          "output_type": "execute_result"
        }
      ],
      "source": [
        "# Initialize the quantum circuit\n",
        "qc = QuantumCircuit(3)\n",
        "\n",
        "# Set qubit0 to p_large i.e for Max Diameter\n",
        "qc.ry(prob_to_angle(p_large), 0)\n",
        "\n",
        "# Set qubit1 to p_fast i.e for Relative Velocity\n",
        "qc.ry(prob_to_angle(p_fast), 1)"
      ]
    },
    {
      "cell_type": "code",
      "execution_count": 384,
      "metadata": {
        "id": "aSSBBgqrqer6"
      },
      "outputs": [],
      "source": [
        "# Defining the CCRY‐gate:\n",
        "def ccry(qc, theta, control1, control2, controlled):\n",
        "    qc.cry(theta/2, control2, controlled)\n",
        "    qc.cx(control1, control2)\n",
        "    qc.cry(-theta/2, control2, controlled)\n",
        "    qc.cx(control1, control2)\n",
        "    qc.cry(theta/2, control1, controlled)"
      ]
    },
    {
      "cell_type": "code",
      "execution_count": 385,
      "metadata": {
        "id": "LaJMAIwJrCy2"
      },
      "outputs": [],
      "source": [
        "# Calculating the conditional probabilities\n",
        "\n",
        "# fast Relative Velocity and large Diameter\n",
        "population_fast=train_input[train_input.Categorized_Relative_Vel.eq(\"Fast\")]\n",
        "population_fast_large= population_fast[population_fast.Categorized_Diameter.eq(\"Large\")]\n",
        "hazardous_fast_large = population_fast_large[population_fast_large.Hazardous.eq(1)]\n",
        "p_hazardous_fast_large=len(hazardous_fast_large)/len(population_fast_large)\n",
        "# print(p_hazardous_fast_large)"
      ]
    },
    {
      "cell_type": "code",
      "execution_count": 386,
      "metadata": {
        "id": "BmOIqKSKt4YA"
      },
      "outputs": [],
      "source": [
        "# fast Relative Velocity and small Diameter\n",
        "population_fast_small = population_fast[population_fast.Categorized_Diameter.eq(\"Small\")]\n",
        "hazardous_fast_small = population_fast_small[population_fast_small.Hazardous.eq(1)]\n",
        "p_hazardous_fast_small=len(hazardous_fast_small)/len(population_fast_small)\n"
      ]
    },
    {
      "cell_type": "code",
      "execution_count": 387,
      "metadata": {
        "id": "z9hUfLvLug9l"
      },
      "outputs": [],
      "source": [
        "# Slow Relative Velocity and Large Diameter\n",
        "population_slow = train_input[train_input.Categorized_Relative_Vel.eq(\"Slow\")]\n",
        "population_slow_large = population_slow[population_slow.Categorized_Diameter.eq(\"Large\")]\n",
        "hazardous_slow_large=population_slow_large[population_slow_large.Hazardous.eq(1)]\n",
        "p_hazardous_slow_large=len(hazardous_slow_large)/len(population_slow_large)"
      ]
    },
    {
      "cell_type": "code",
      "execution_count": 388,
      "metadata": {
        "id": "z9lMjbPJvQew"
      },
      "outputs": [],
      "source": [
        "# Slow Relative Velocity and Small Diameter\n",
        "population_slow_small = population_slow[population_slow.Categorized_Diameter.eq(\"Small\")]\n",
        "hazardous_slow_small = population_slow_small[population_slow_small.Hazardous.eq(1)]\n",
        "p_hazardous_slow_small=len(hazardous_slow_small)/len(population_slow_small)\n"
      ]
    },
    {
      "cell_type": "code",
      "execution_count": 389,
      "metadata": {
        "id": "Hxfg-zR-wQ-w"
      },
      "outputs": [],
      "source": [
        "# Initializing the child node:\n",
        "\n",
        "# set state |00> to conditional probability of slow RV and small Diameter\n",
        "qc.x(0)\n",
        "qc.x(1)\n",
        "ccry(qc,prob_to_angle(p_hazardous_slow_small),0,1,2)\n",
        "qc.x(0)\n",
        "qc.x(1)\n",
        "\n",
        "# set state |01> to conditional probability of slow RV and large Diameter\n",
        "qc.x(0)\n",
        "ccry(qc,prob_to_angle(p_hazardous_slow_large),0,1,2)\n",
        "qc.x(0)\n",
        "\n",
        "# set state |10> to conditional probability of fast RV and small Diameter\n",
        "qc.x(1)\n",
        "ccry(qc,prob_to_angle(p_hazardous_fast_small),0,1,2)\n",
        "qc.x(1)\n",
        "\n",
        "# set state |11> to conditional probability of fast RV and large Diameter\n",
        "ccry(qc,prob_to_angle(p_hazardous_fast_large),0,1,2)\n"
      ]
    },
    {
      "cell_type": "code",
      "execution_count": 390,
      "metadata": {
        "colab": {
          "base_uri": "https://localhost:8080/",
          "height": 473
        },
        "id": "hlWowpXtw9uD",
        "outputId": "1500c789-6e12-4e61-e54e-148d698116ec"
      },
      "outputs": [
        {
          "data": {
            "image/png": "[encoded data removed]",
            "text/plain": [
              "<Figure size 700x500 with 1 Axes>"
            ]
          },
          "execution_count": 390,
          "metadata": {},
          "output_type": "execute_result"
        }
      ],
      "source": [
        "# Circuit execution\n",
        "\n",
        "# execute the qc\n",
        "results = execute(qc,Aer.get_backend('statevector_simulator')).result().get_counts()\n",
        "plot_histogram(results)"
      ]
    },
    {
      "cell_type": "code",
      "execution_count": 391,
      "metadata": {
        "id": "81A66SQV3j32"
      },
      "outputs": [],
      "source": [
        "# Quantum circuit with classical register\n",
        "qr = QuantumRegister(3)\n",
        "cr = ClassicalRegister(1)\n",
        "qc = QuantumCircuit(qr, cr)"
      ]
    },
    {
      "cell_type": "code",
      "execution_count": 392,
      "metadata": {
        "colab": {
          "base_uri": "https://localhost:8080/",
          "height": 449
        },
        "id": "KXDGKrYV4WTU",
        "outputId": "e5e26911-97b1-4b78-8675-811755eed1b3"
      },
      "outputs": [
        {
          "data": {
            "image/png": "[encoded data removed]",
            "text/plain": [
              "<Figure size 700x500 with 1 Axes>"
            ]
          },
          "execution_count": 392,
          "metadata": {},
          "output_type": "execute_result"
        }
      ],
      "source": [
        "# Listing Run the circuit including a measurement\n",
        "\n",
        "# Set qubit0 to p_small i.e for Max Diameter\n",
        "qc.ry(prob_to_angle(p_large), 0)\n",
        "\n",
        "# Set qubit1 to p_fast i.e for Relative Velocity\n",
        "qc.ry(prob_to_angle(p_fast), 1)\n",
        "\n",
        "# set state |00> to conditional probability of slow RV and small Diameter\n",
        "qc.x(0)\n",
        "qc.x(1)\n",
        "ccry(qc,prob_to_angle(p_hazardous_slow_small),0,1,2)\n",
        "qc.x(0)\n",
        "qc.x(1)\n",
        "\n",
        "# set state |01> to conditional probability of slow RV and large Diameter\n",
        "qc.x(0)\n",
        "ccry(qc,prob_to_angle(p_hazardous_slow_large),0,1,2)\n",
        "qc.x(0)\n",
        "\n",
        "# set state |10> to conditional probability of fast RV and small Diameter\n",
        "qc.x(1)\n",
        "ccry(qc,prob_to_angle(p_hazardous_fast_small),0,1,2)\n",
        "qc.x(1)\n",
        "\n",
        "# set state |11> to conditional probability of fast RV and large Diameter\n",
        "ccry(qc,prob_to_angle(p_hazardous_fast_large),0,1,2)\n",
        "\n",
        "qc.measure(qr[2], cr[0])\n",
        "results = execute(qc,Aer.get_backend('qasm_simulator'), shots=1000).result().get_counts()\n",
        "plot_histogram(results)"
      ]
    },
    {
      "cell_type": "markdown",
      "metadata": {
        "id": "I5tGnohy5hJO"
      },
      "source": [
        "# Bayesian Interference\n"
      ]
    },
    {
      "cell_type": "code",
      "execution_count": 393,
      "metadata": {
        "id": "kIUpnol35yhw"
      },
      "outputs": [],
      "source": [
        "# Dataset with missing values\n",
        "data = [\n",
        "    (1, 1), (1, 1), (0, 0), (0, 0), (0, 0), (0, None), (0, 1), (1, 0)\n",
        "]"
      ]
    },
    {
      "cell_type": "code",
      "execution_count": 394,
      "metadata": {
        "id": "QwFiVg3S60HM"
      },
      "outputs": [],
      "source": [
        "# The log‐likelihood function adapted for our data\n",
        "def log_likelihood(data, prob_a_b, prob_a_nb, prob_na_b, prob_na_nb):\n",
        "    def get_prob(point):\n",
        "        if point[0] == 1 and point[1] == 1:\n",
        "            return log(prob_a_b)\n",
        "        elif point[0] == 1 and point[1] == 0:\n",
        "            return log(prob_a_nb)\n",
        "        elif point[0] == 0 and point[1] == 1:\n",
        "            return log(prob_na_b)\n",
        "        elif point[0] == 0 and point[1] == 0:\n",
        "            return log(prob_na_nb)\n",
        "        else:\n",
        "            return log(prob_na_b+prob_na_nb)\n",
        "\n",
        "    return sum(map(get_prob, data))"
      ]
    },
    {
      "cell_type": "code",
      "execution_count": 395,
      "metadata": {
        "id": "IXSusR9j64cG"
      },
      "outputs": [],
      "source": [
        "# The as‐pqc function\n",
        "def as_pqc(cnt_quantum, with_qc, cnt_classical=1, shots=1, hist=False, measure=False):\n",
        "    # Prepare the circuit with qubits and a classical bit to hold the measurement\n",
        "    qr = QuantumRegister(cnt_quantum)\n",
        "    cr = ClassicalRegister(cnt_classical)\n",
        "    qc = QuantumCircuit(qr, cr) if measure else QuantumCircuit(qr)\n",
        "\n",
        "    with_qc(qc, qr=qr, cr=cr)\n",
        "\n",
        "    results = execute(\n",
        "        qc,\n",
        "        Aer.get_backend('statevector_simulator') if measure is False else Aer.get_backend('qasm_simulator'),\n",
        "        shots=shots\n",
        "    ).result().get_counts()\n",
        "\n",
        "    return plot_histogram(results, figsize=(12,4)) if hist else results"
      ]
    },
    {
      "cell_type": "code",
      "execution_count": 396,
      "metadata": {
        "id": "QR1qnghK7h75"
      },
      "outputs": [],
      "source": [
        "# The quantum Bayesian network\n",
        "def qbn(data, hist=True):\n",
        "    def circuit(qc, qr=None, cr=None):\n",
        "        list_a = list(filter(lambda item: item[0] == 1, data))\n",
        "        list_na = list(filter(lambda item: item[0] == 0, data))\n",
        "\n",
        "        # set the marginal probability of A\n",
        "        qc.ry(prob_to_angle(\n",
        "            len(list_a) / len(data)\n",
        "        ), 0)\n",
        "\n",
        "        # set the conditional probability of NOT A and (B / not B)\n",
        "        qc.x(0)\n",
        "        qc.cry(prob_to_angle(\n",
        "            sum(list(map(lambda item: item[1], list_na))) /  len(list_na)\n",
        "        ),0,1)\n",
        "        qc.x(0)\n",
        "\n",
        "        # set the conditional probability of A and (B / not B)\n",
        "        qc.cry(prob_to_angle(\n",
        "            sum(list(map(lambda item: item[1], list_a))) /  len(list_a)\n",
        "        ),0,1)\n",
        "\n",
        "    return as_pqc(2, circuit, hist=hist)"
      ]
    },
    {
      "cell_type": "code",
      "execution_count": 397,
      "metadata": {
        "colab": {
          "base_uri": "https://localhost:8080/",
          "height": 384
        },
        "id": "jz0eunkj7kNj",
        "outputId": "be59e8be-fff5-4f71-9475-856948bf4968"
      },
      "outputs": [
        {
          "data": {
            "image/png": "[encoded data removed]",
            "text/plain": [
              "<Figure size 1200x400 with 1 Axes>"
            ]
          },
          "execution_count": 397,
          "metadata": {},
          "output_type": "execute_result"
        }
      ],
      "source": [
        "# Ignoring the missing data\n",
        "qbn(list(filter(lambda item: item[1] is not None ,data)))"
      ]
    },
    {
      "cell_type": "code",
      "execution_count": 398,
      "metadata": {
        "colab": {
          "base_uri": "https://localhost:8080/"
        },
        "id": "2zc3-m6h-qVR",
        "outputId": "2b95309a-8361-447a-ddb1-aafec57333ae"
      },
      "outputs": [
        {
          "name": "stdout",
          "output_type": "stream",
          "text": [
            "(-9.499, 0.25)\n"
          ]
        }
      ],
      "source": [
        "\n",
        "# Calculate the log‐likelihood when ignoring the missing data\n",
        "def eval_qbn(model, prepare_data, data):\n",
        "    results = model(prepare_data(data), hist=False)\n",
        "    return (\n",
        "        round(log_likelihood(data,\n",
        "            results['11'], # prob_a_b\n",
        "            results['01'], # prob_a_nb\n",
        "            results['10'], # prob_na_b\n",
        "            results['00']  # prob_na_nb\n",
        "        ), 3),\n",
        "        results['10'] / (results['10'] + results['00'])\n",
        "    )\n",
        "\n",
        "print(eval_qbn(qbn, lambda dataset: list(filter(lambda item: item[1] is not None ,dataset)), data))"
      ]
    },
    {
      "cell_type": "code",
      "execution_count": 399,
      "metadata": {
        "colab": {
          "base_uri": "https://localhost:8080/"
        },
        "id": "ymmi4WYw-4E4",
        "outputId": "5903ec43-2308-4ccc-8a5e-ae76a794773c"
      },
      "outputs": [
        {
          "name": "stdout",
          "output_type": "stream",
          "text": [
            "(-9.481, 0.2)\n"
          ]
        }
      ],
      "source": [
        "# Calculate the log‐likelihood when filling in 0\n",
        "print(eval_qbn(qbn, lambda dataset: list(map(lambda item: item if item[1] is not None else (item[0], 0) ,dataset)), data))"
      ]
    },
    {
      "cell_type": "code",
      "execution_count": 400,
      "metadata": {
        "colab": {
          "base_uri": "https://localhost:8080/"
        },
        "id": "Ik7-N44x_Eql",
        "outputId": "90ff8ed7-d05b-480a-be2b-e3afc88ce53d"
      },
      "outputs": [
        {
          "name": "stdout",
          "output_type": "stream",
          "text": [
            "(-9.476, 0.3)\n"
          ]
        }
      ],
      "source": [
        "\n",
        "# Evaluating the guess\n",
        "print(eval_qbn(qbn, lambda dataset: list(map(lambda item: item if item[1] is not None else (item[0], 0.5) ,dataset)), data))"
      ]
    },
    {
      "cell_type": "code",
      "execution_count": 401,
      "metadata": {
        "colab": {
          "base_uri": "https://localhost:8080/"
        },
        "id": "eT5YoHp6_n9B",
        "outputId": "ff10c4f9-3626-415b-b471-294f2accc1af"
      },
      "outputs": [
        {
          "name": "stdout",
          "output_type": "stream",
          "text": [
            "(-9.452, 0.26)\n"
          ]
        }
      ],
      "source": [
        "# Refining the model\n",
        "print(eval_qbn(qbn, lambda dataset: list(map(lambda item: item if item[1] is not None else (item[0], 0.3) ,dataset)), data))"
      ]
    },
    {
      "cell_type": "code",
      "execution_count": 402,
      "metadata": {
        "colab": {
          "base_uri": "https://localhost:8080/"
        },
        "id": "mIvtIfOD_xFM",
        "outputId": "26c2e3e0-264b-42cb-9beb-4bb7ec883e38"
      },
      "outputs": [
        {
          "name": "stdout",
          "output_type": "stream",
          "text": [
            "(-9.451, 0.2504)\n"
          ]
        }
      ],
      "source": [
        "# Further refining the model\n",
        "print(eval_qbn(qbn, lambda dataset: list(map(lambda item: item if item[1] is not None else (item[0], 0.252) ,dataset)), data))"
      ]
    },
    {
      "cell_type": "code",
      "execution_count": 403,
      "metadata": {
        "colab": {
          "base_uri": "https://localhost:8080/"
        },
        "id": "ofnWCbqq_6n3",
        "outputId": "f0dd83a2-70d4-4456-999f-7ccd49b0c9c4"
      },
      "outputs": [
        {
          "name": "stdout",
          "output_type": "stream",
          "text": [
            "(-9.451, 0.2504)\n"
          ]
        }
      ],
      "source": [
        "# Another iteration\n",
        "print(eval_qbn(qbn, lambda dataset: list(map(lambda item: item if item[1] is not None else (item[0], 0.252) ,dataset)), data))"
      ]
    },
    {
      "cell_type": "markdown",
      "metadata": {
        "id": "H97OW2GJAP7u"
      },
      "source": [
        "# Section Estimating A Variable"
      ]
    },
    {
      "cell_type": "code",
      "execution_count": 404,
      "metadata": {
        "id": "3P-8Z7QyAElc"
      },
      "outputs": [],
      "source": [
        "# positions of the qubits\n",
        "QPOS_dia = 0\n",
        "QPOS_RV = 1\n",
        "\n",
        "def apply_islarge_fast(qc):\n",
        "    # set the marginal probability of large Diameter\n",
        "    qc.ry(prob_to_angle(p_large), QPOS_dia)\n",
        "\n",
        "    # set the marginal probability of Fast Relative Velocity\n",
        "    qc.ry(prob_to_angle(p_fast), QPOS_RV)"
      ]
    },
    {
      "cell_type": "code",
      "execution_count": 405,
      "metadata": {
        "id": "RqITcwkuFGPC"
      },
      "outputs": [],
      "source": [
        "# Defining the CCRY‐gate:\n",
        "def ccry(qc, theta, control1, control2, controlled):\n",
        "    qc.cry(theta/2, control2, controlled)\n",
        "    qc.cx(control1, control2)\n",
        "    qc.cry(-theta/2, control2, controlled)\n",
        "    qc.cx(control1, control2)\n",
        "    qc.cry(theta/2, control1, controlled)"
      ]
    },
    {
      "cell_type": "code",
      "execution_count": 406,
      "metadata": {
        "id": "Je2gRdlmFH0N"
      },
      "outputs": [],
      "source": [
        "# Listing Represent the norm\n",
        "# position of the qubit representing the norm\n",
        "QPOS_NORM = 2\n",
        "\n",
        "def apply_norm(qc, norm_params):\n",
        "    \"\"\"\n",
        "    norm_params = {\n",
        "        'p_norm_small_slow': 0.25,\n",
        "        'p_norm_small_fast': 0.35,\n",
        "        'p_norm_large_slow': 0.45,\n",
        "        'p_norm_large_fast': 0.55\n",
        "    }\n",
        "    \"\"\"\n",
        "\n",
        "    # set the conditional probability of Norm given small/slow\n",
        "    qc.x(QPOS_dia)\n",
        "    qc.x(QPOS_RV)\n",
        "    ccry(qc, prob_to_angle(\n",
        "        norm_params['p_norm_small_slow']\n",
        "    ),QPOS_dia, QPOS_RV, QPOS_NORM)\n",
        "    qc.x(QPOS_dia)\n",
        "    qc.x(QPOS_RV)\n",
        "\n",
        "    # set the conditional probability of Norm given small/fast\n",
        "    qc.x(QPOS_dia)\n",
        "    ccry(qc, prob_to_angle(\n",
        "        norm_params['p_norm_small_fast']\n",
        "    ),QPOS_dia, QPOS_RV, QPOS_NORM)\n",
        "    qc.x(QPOS_dia)\n",
        "\n",
        "    # set the conditional probability of Norm given large/slow\n",
        "    qc.x(QPOS_RV)\n",
        "    ccry(qc, prob_to_angle(\n",
        "        norm_params['p_norm_large_slow']\n",
        "    ),QPOS_dia, QPOS_RV, QPOS_NORM)\n",
        "    qc.x(QPOS_RV)\n",
        "\n",
        "    # set the conditional probability of Norm given large/fast\n",
        "    ccry(qc, prob_to_angle(\n",
        "        norm_params['p_norm_large_fast']\n",
        "    ),QPOS_dia, QPOS_RV, QPOS_NORM)\n"
      ]
    },
    {
      "cell_type": "code",
      "execution_count": 407,
      "metadata": {
        "colab": {
          "base_uri": "https://localhost:8080/"
        },
        "id": "o7KjmUjHLZhH",
        "outputId": "e23e539f-06b6-4c30-97b7-11fe3097afed"
      },
      "outputs": [
        {
          "name": "stdout",
          "output_type": "stream",
          "text": [
            "More Miss Distance: 0.34 of the Objects, hazardous: 0.11\n",
            "Medium Miss Distance: 0.32 of the Objects, hazardous: 0.1\n",
            "Less Miss Distance: 0.34 of the Objects, hazardous: 0.09\n"
          ]
        }
      ],
      "source": [
        "# Listing Calculate the probabilities related to the miss distance\n",
        "pop_more = train_input[train_input.Categorised_Miss_Distance.eq(\"More\")]\n",
        "hazardous_more =  round(len(pop_more[pop_more.Hazardous.eq(1)])/len(pop_more), 2)\n",
        "p_more = round(len(pop_more)/len(train_input), 2)\n",
        "\n",
        "pop_med = train_input[train_input.Categorised_Miss_Distance.eq(\"Medium\")]\n",
        "hazardous_med =  round(len(pop_med[pop_med.Hazardous.eq(1)])/len(pop_med), 2)\n",
        "p_med = round(len(pop_med)/len(train_input), 2)\n",
        "\n",
        "pop_less = train_input[train_input.Categorised_Miss_Distance.eq(\"Less\")]\n",
        "hazardous_less =  round(len(pop_less[pop_less.Hazardous.eq(1)])/len(pop_less), 2)\n",
        "p_less = round(len(pop_less)/len(train_input), 2)\n",
        "\n",
        "print(\"More Miss Distance: {} of the Objects, hazardous: {}\".format(p_more , hazardous_more))\n",
        "print(\"Medium Miss Distance: {} of the Objects, hazardous: {}\".format(p_med,hazardous_med))\n",
        "print(\"Less Miss Distance: {} of the Objects, hazardous: {}\".format(p_less,hazardous_less))"
      ]
    },
    {
      "cell_type": "code",
      "execution_count": 408,
      "metadata": {
        "id": "zZAFyFDFRvQQ"
      },
      "outputs": [],
      "source": [
        "# Listing Represent the miss-distance\n",
        "# positions of the qubits\n",
        "QPOS_more = 3\n",
        "QPOS_med = 4\n",
        "QPOS_less = 5\n",
        "\n",
        "def apply_class(qc):\n",
        "    # set the marginal probability of miss-distance=more\n",
        "    qc.ry(prob_to_angle(p_more), QPOS_more)\n",
        "\n",
        "    qc.x(QPOS_more)\n",
        "    # set the marginal probability of Pclass=2nd\n",
        "    qc.cry(prob_to_angle(p_med/(1-p_more)), QPOS_more, QPOS_med)\n",
        "\n",
        "    # set the marginal probability of Pclass=3rd\n",
        "    qc.x(QPOS_med)\n",
        "    ccry(qc, prob_to_angle(p_less/(1-p_more-p_med)), QPOS_more, QPOS_med, QPOS_less)\n",
        "    qc.x(QPOS_med)\n",
        "    qc.x(QPOS_more)"
      ]
    },
    {
      "cell_type": "code",
      "execution_count": 409,
      "metadata": {
        "id": "W9qttF0WOzA9"
      },
      "outputs": [],
      "source": [
        "# Listing Represent hazardous\n",
        "# position of the qubit\n",
        "QPOS_hazardous = 6\n",
        "\n",
        "def apply_hazardous(qc, hazardous_params):\n",
        "    \"\"\"\n",
        "    hazardous_params = {\n",
        "        'p_hazardous_favoured_more': 0.3,\n",
        "        'p_hazardous_favoured_med': 0.4,\n",
        "        'p_hazardous_favoured_less': 0.5,\n",
        "        'p_hazardous_unfavoured_more': 0.6,\n",
        "        'p_hazardous_unfavoured_med': 0.7,\n",
        "        'p_hazardous_unfavoured_less': 0.8\n",
        "    }\n",
        "    \"\"\"\n",
        "\n",
        "    # set the conditional probability of Survival given unfavored by norm\n",
        "    qc.x(QPOS_NORM)\n",
        "    ccry(qc, prob_to_angle(\n",
        "        hazardous_params['p_hazardous_unfavoured_more']\n",
        "    ),QPOS_NORM, QPOS_more, QPOS_hazardous)\n",
        "\n",
        "    ccry(qc, prob_to_angle(\n",
        "        hazardous_params['p_hazardous_unfavoured_med']\n",
        "    ),QPOS_NORM, QPOS_med, QPOS_hazardous)\n",
        "\n",
        "    ccry(qc, prob_to_angle(\n",
        "        hazardous_params['p_hazardous_unfavoured_less']\n",
        "    ),QPOS_NORM, QPOS_less, QPOS_hazardous)\n",
        "    qc.x(QPOS_NORM)\n",
        "\n",
        "    # set the conditional probability of hazardous given favored by norm\n",
        "    ccry(qc, prob_to_angle(\n",
        "        hazardous_params['p_hazardous_favoured_more']\n",
        "    ),QPOS_NORM, QPOS_more, QPOS_hazardous)\n",
        "\n",
        "    ccry(qc, prob_to_angle(\n",
        "        hazardous_params['p_hazardous_favoured_med']\n",
        "    ),QPOS_NORM, QPOS_med, QPOS_hazardous)\n",
        "\n",
        "    ccry(qc, prob_to_angle(\n",
        "        hazardous_params['p_hazardous_favoured_less']\n",
        "    ),QPOS_NORM, QPOS_less, QPOS_hazardous)\n"
      ]
    },
    {
      "cell_type": "code",
      "execution_count": 410,
      "metadata": {
        "id": "anKTk4T4PT2g"
      },
      "outputs": [],
      "source": [
        "# Listing The quantum bayesian network\n",
        "QUBITS = 7\n",
        "\n",
        "def qbn_neo(norm_params, hazardous_params, hist=True, measure=False, shots=1):\n",
        "    def circuit(qc, qr=None, cr=None):\n",
        "        apply_islarge_fast(qc)\n",
        "        apply_norm(qc, norm_params)\n",
        "        apply_class(qc)\n",
        "        apply_hazardous(qc, hazardous_params)\n",
        "\n",
        "    return as_pqc(QUBITS, circuit, hist=hist, measure=measure, shots=shots)\n"
      ]
    },
    {
      "cell_type": "code",
      "execution_count": 411,
      "metadata": {
        "id": "5SmXK24DPWVE"
      },
      "outputs": [],
      "source": [
        "# Listing Try the QBN\n",
        "norm_params = {\n",
        "    'p_norm_small_slow': 0.25,\n",
        "    'p_norm_small_fast': 0.35,\n",
        "    'p_norm_large_slow': 0.45,\n",
        "    'p_norm_large_fast': 0.55\n",
        "}\n",
        "\n",
        "hazardous_params = {\n",
        "    'p_hazardous_favoured_more': 0.3,\n",
        "    'p_hazardous_favoured_med': 0.4,\n",
        "    'p_hazardous_favoured_less': 0.5,\n",
        "    'p_hazardous_unfavoured_more': 0.6,\n",
        "    'p_hazardous_unfavoured_med': 0.7,\n",
        "    'p_hazardous_unfavoured_less': 0.8\n",
        "}\n"
      ]
    },
    {
      "cell_type": "code",
      "execution_count": 412,
      "metadata": {
        "colab": {
          "base_uri": "https://localhost:8080/",
          "height": 442
        },
        "id": "OtoafdJcPZNm",
        "outputId": "526e09bb-d2ba-4c7a-fdfc-5bbd6852e821"
      },
      "outputs": [
        {
          "data": {
            "image/png": "[encoded data removed]",
            "text/plain": [
              "<Figure size 1200x400 with 1 Axes>"
            ]
          },
          "execution_count": 412,
          "metadata": {},
          "output_type": "execute_result"
        }
      ],
      "source": [
        "qbn_neo(norm_params, hazardous_params, hist=True)\n"
      ]
    },
    {
      "cell_type": "code",
      "execution_count": 413,
      "metadata": {
        "id": "86jxugcOPcUk"
      },
      "outputs": [],
      "source": [
        "# Listing Calculate the parameters of the norm\n",
        "def calculate_norm_params(objects):\n",
        "    # the different diameteric objects in our data\n",
        "    pop_large = objects[objects.Categorized_Diameter.eq(\"Large\")]\n",
        "    pop_small = objects[objects.Categorized_Diameter.eq(\"Small\")]\n",
        "\n",
        "    # combinations of being a large object and Relative Velocity\n",
        "    pop_small_slow = pop_small[pop_small.Categorized_Relative_Vel.eq('Slow')]\n",
        "    pop_small_fast = pop_small[pop_small.Categorized_Relative_Vel.eq('Fast')]\n",
        "    pop_large_slow = pop_large[pop_large.Categorized_Relative_Vel.eq('Slow')]\n",
        "    pop_large_fast = pop_large[pop_large.Categorized_Relative_Vel.eq('Fast')]\n",
        "\n",
        "    norm_params = {\n",
        "        'p_norm_small_slow': pop_small_slow.Norm.sum() /  len(pop_small_slow),\n",
        "        'p_norm_small_fast': pop_small_fast.Norm.sum() /  len(pop_small_fast),\n",
        "        'p_norm_large_slow': pop_large_slow.Norm.sum() /  len(pop_large_slow),\n",
        "        'p_norm_large_fast': pop_large_fast.Norm.sum() /  len(pop_large_fast),\n",
        "    }\n",
        "\n",
        "    return norm_params\n"
      ]
    },
    {
      "cell_type": "code",
      "execution_count": 414,
      "metadata": {
        "id": "27z1jmuSPjKz"
      },
      "outputs": [],
      "source": [
        "# Listing Calculate the parameters of hazardous\n",
        "def calculate_hazardous_params(objects):\n",
        "    # all hazardous\n",
        "    hazardous = objects[objects.Hazardous.eq(1)]\n",
        "\n",
        "    # weight the object\n",
        "    def weight_object(norm, missDistance):\n",
        "        return lambda object: (object[0] if norm else 1-object[0]) * (1 if object[1] == missDistance else 0)\n",
        "\n",
        "    # calculate the probability of being hazardous\n",
        "    def calc_prob(norm, missDistance):\n",
        "        return sum(list(map(\n",
        "            weight_object(norm, missDistance),\n",
        "            list(zip(hazardous['Norm'], hazardous['Categorised_Miss_Distance']))\n",
        "        ))) / sum(list(map(\n",
        "            weight_object(norm, missDistance),\n",
        "            list(zip(objects['Norm'], objects['Categorised_Miss_Distance']))\n",
        "        )))\n",
        "\n",
        "    hazardous_params = {\n",
        "        'p_hazardous_favoured_more': calc_prob(True, \"More\"),\n",
        "        'p_hazardous_favoured_med': calc_prob(True, \"Medium\"),\n",
        "        'p_hazardous_favoured_less': calc_prob(True, \"Less\"),\n",
        "        'p_hazardous_unfavoured_more': calc_prob(False, \"More\"),\n",
        "        'p_hazardous_unfavoured_med': calc_prob(False, \"Medium\"),\n",
        "        'p_hazardous_unfavoured_less': calc_prob(False, \"Less\")\n",
        "    }\n",
        "\n",
        "    return hazardous_params\n"
      ]
    },
    {
      "cell_type": "code",
      "execution_count": 415,
      "metadata": {
        "id": "XDKLAflKPmvA"
      },
      "outputs": [],
      "source": [
        "# Listing Prepare the data\n",
        "def prepare_data(objects, params):\n",
        "    \"\"\"\n",
        "    params = {\n",
        "        'p_norm_large_slow_hazardous': 0.45,\n",
        "        'p_norm_large_slow_nonhazardous': 0.46,\n",
        "        'p_norm_large_fast_hazardous': 0.47,\n",
        "        'p_norm_large_fast_nonhazardous': 0.48,\n",
        "        'p_norm_small_slow_hazardous': 0.49,\n",
        "        'p_norm_small_slow_nonhazardous': 0.51,\n",
        "        'p_norm_small_fast_hazardous': 0.52,\n",
        "        'p_norm_small_fast_nonhazardous': 0.53,\n",
        "    }\n",
        "    \"\"\"\n",
        "    # is the object large?\n",
        "    objects['IsLarge'] = objects['Categorized_Diameter'].map(lambda dia: 0 if dia == \"Small\" else 1)\n",
        "\n",
        "    # the probability of favored by norm given diameter, relative velocity, and hazardous\n",
        "    objects['Norm'] = list(map(\n",
        "        lambda item: params['p_norm_{}_{}_{}'.format(\n",
        "            'small' if item[0] == \"Small\" else 'large',\n",
        "            'slow' if item[1] == \"Slow\" else 'fast',\n",
        "            'nonhazardous' if item[2] == 0 else 'hazardous'\n",
        "        )],\n",
        "        list(zip(objects['IsLarge'], objects['Categorized_Relative_Vel'], objects['Hazardous']))\n",
        "    ))\n",
        "    return objects\n"
      ]
    },
    {
      "cell_type": "code",
      "execution_count": 416,
      "metadata": {
        "id": "MY6oNfLuPqOA"
      },
      "outputs": [],
      "source": [
        "# Listing Initialize the parameters\n",
        "# Step 0: Initialize the parameter values\n",
        "params = {\n",
        "    'p_norm_large_slow_hazardous': 0.45,\n",
        "    'p_norm_large_slow_nonhazardous': 0.46,\n",
        "    'p_norm_large_fast_hazardous': 0.47,\n",
        "    'p_norm_large_fast_nonhazardous': 0.48,\n",
        "    'p_norm_small_slow_hazardous': 0.49,\n",
        "    'p_norm_small_slow_nonhazardous': 0.51,\n",
        "    'p_norm_small_fast_hazardous': 0.52,\n",
        "    'p_norm_small_fast_nonhazardous': 0.53,\n",
        "}\n"
      ]
    },
    {
      "cell_type": "code",
      "execution_count": 417,
      "metadata": {
        "colab": {
          "base_uri": "https://localhost:8080/"
        },
        "id": "xZiBHZXrPrSF",
        "outputId": "c3b04841-9acc-49bd-90b1-7ebed3183559"
      },
      "outputs": [
        {
          "name": "stdout",
          "output_type": "stream",
          "text": [
            "       Max_Diameter  Relative_Velocity  Miss_Distance Categorized_Diameter  \\\n",
            "10344      0.118588       39981.611676   1.272941e+07                Small   \n",
            "9427       0.206082       25831.105183   7.147113e+07                Small   \n",
            "30105      0.015633       23641.318190   5.253373e+07                Small   \n",
            "3396       0.225964       61724.820117   3.984482e+07                Small   \n",
            "8767       0.098637       75514.808582   5.909602e+07                Small   \n",
            "...             ...                ...            ...                  ...   \n",
            "38183      0.051765       29758.614038   2.647132e+07                Small   \n",
            "44613      0.078350       38307.816272   2.753888e+06                Small   \n",
            "23119      0.026794       43630.086043   2.378008e+07                Small   \n",
            "39019      0.016370       10498.037672   5.356362e+07                Small   \n",
            "51518      0.369862      133299.367585   7.083885e+07                Large   \n",
            "\n",
            "      Categorized_Relative_Vel Categorised_Miss_Distance  Hazardous  IsLarge  \\\n",
            "10344                     Slow                      Less      False        0   \n",
            "9427                      Slow                      More      False        0   \n",
            "30105                     Slow                      More      False        0   \n",
            "3396                      Fast                    Medium      False        0   \n",
            "8767                      Fast                      More      False        0   \n",
            "...                        ...                       ...        ...      ...   \n",
            "38183                     Slow                    Medium      False        0   \n",
            "44613                     Slow                      Less      False        0   \n",
            "23119                     Slow                      Less      False        0   \n",
            "39019                     Slow                      More      False        0   \n",
            "51518                     Fast                      More      False        1   \n",
            "\n",
            "       Norm  \n",
            "10344  0.46  \n",
            "9427   0.46  \n",
            "30105  0.46  \n",
            "3396   0.48  \n",
            "8767   0.48  \n",
            "...     ...  \n",
            "38183  0.46  \n",
            "44613  0.46  \n",
            "23119  0.46  \n",
            "39019  0.46  \n",
            "51518  0.48  \n",
            "\n",
            "[27251 rows x 9 columns]\n"
          ]
        }
      ],
      "source": [
        "# Listing Run the qbn\n",
        "objects = prepare_data(test_input, params)\n",
        "results = qbn_neo(calculate_norm_params(objects), calculate_hazardous_params(objects), hist=False)\n",
        "print(objects)\n",
        "objects.to_csv('objects.csv')\n"
      ]
    },
    {
      "cell_type": "code",
      "execution_count": 418,
      "metadata": {
        "id": "jPPAwLzoPto1"
      },
      "outputs": [],
      "source": [
        "# Listing Get a list of relevant states\n",
        "def filter_states(states, position, value):\n",
        "    return list(filter(lambda item: item[0][QUBITS-1-position] == str(value), states))\n"
      ]
    },
    {
      "cell_type": "code",
      "execution_count": 419,
      "metadata": {
        "colab": {
          "base_uri": "https://localhost:8080/"
        },
        "id": "-RO9fa43Pvrb",
        "outputId": "c53232d2-f295-4ec9-d063-caf1a361f9a3"
      },
      "outputs": [
        {
          "data": {
            "text/plain": [
              "[('1001000', 0.011743601771621),\n",
              " ('1001001', 0.004938356598385),\n",
              " ('1001010', 0.001976021014081),\n",
              " ('1001011', 0.000831110215539),\n",
              " ('1001100', 0.00974763214708),\n",
              " ('1001101', 0.004056395720212),\n",
              " ('1001110', 0.001775646263831),\n",
              " ('1001111', 0.000739080051968),\n",
              " ('1010000', 0.010439352360194),\n",
              " ('1010001', 0.004389900612554),\n",
              " ('1010010', 0.001756563279163),\n",
              " ('1010011', 0.000738806761239),\n",
              " ('1010100', 0.008722502317211),\n",
              " ('1010101', 0.003629796501879),\n",
              " ('1010110', 0.001588906763931),\n",
              " ('1010111', 0.00066135317466),\n",
              " ('1100000', 0.008800324840595),\n",
              " ('1100001', 0.003700665527462),\n",
              " ('1100010', 0.001480774565924),\n",
              " ('1100011', 0.000622810617842),\n",
              " ('1100100', 0.007394501434019),\n",
              " ('1100101', 0.003077160023837),\n",
              " ('1100110', 0.001346995726356),\n",
              " ('1100111', 0.000560662160991)]"
            ]
          },
          "execution_count": 419,
          "metadata": {},
          "output_type": "execute_result"
        }
      ],
      "source": [
        "# Listing The states with hazardous objects\n",
        "filter_states(results.items(), QPOS_hazardous, '1')\n"
      ]
    },
    {
      "cell_type": "code",
      "execution_count": 420,
      "metadata": {
        "colab": {
          "base_uri": "https://localhost:8080/"
        },
        "id": "OOjue2BpPxlO",
        "outputId": "28fcf61d-ee3b-4e27-97ff-1a189b5bd27e"
      },
      "outputs": [
        {
          "data": {
            "text/plain": [
              "0.094718920450574"
            ]
          },
          "execution_count": 420,
          "metadata": {},
          "output_type": "execute_result"
        }
      ],
      "source": [
        "# Listing Calculate the marginal probability to be hazardous\n",
        "def sum_states(states):\n",
        "    return sum(map(lambda item: item[1], states))\n",
        "\n",
        "sum_states(filter_states(results.items(), QPOS_hazardous, '1'))\n"
      ]
    },
    {
      "cell_type": "code",
      "execution_count": 421,
      "metadata": {
        "id": "eM-ZL2iXP53e"
      },
      "outputs": [],
      "source": [
        "# Listing The log‐likelihood function adapted for our data\n",
        "def log_likelihood_neo(data, results):\n",
        "    states = results.items()\n",
        "\n",
        "    def calc_prob(norm_val, islarge_val, rv_val, hazardous_val):\n",
        "        return sum_states(\n",
        "            filter_states(\n",
        "                filter_states(\n",
        "                    filter_states(\n",
        "                        filter_states(states, QPOS_RV, rv_val),\n",
        "                        QPOS_dia, islarge_val\n",
        "                    ), QPOS_hazardous, hazardous_val\n",
        "                ), QPOS_NORM, norm_val))\n",
        "\n",
        "    probs = {\n",
        "        'p_favoured_large_slow_hazardous': calc_prob('1', '1', '0', '1'),\n",
        "        'p_favoured_large_slow_nonhazardous': calc_prob('1', '1', '0', '0'),\n",
        "        'p_favoured_large_fast_hazardous': calc_prob('1', '1', '1', '1'),\n",
        "        'p_favoured_large_fast_nonhazardous': calc_prob('1', '1', '1', '0'),\n",
        "        'p_favoured_small_slow_hazardous': calc_prob('1', '0', '0', '1'),\n",
        "        'p_favoured_small_slow_nonhazardous': calc_prob('1', '0', '0', '0'),\n",
        "        'p_favoured_small_fast_hazardous': calc_prob('1', '0', '1', '1'),\n",
        "        'p_favoured_small_fast_nonhazardous': calc_prob('1', '0', '1', '0'),\n",
        "        'p_unfavoured_large_slow_hazardous': calc_prob('0', '1', '0', '1'),\n",
        "        'p_unfavoured_large_slow_nonhazardous': calc_prob('0', '1', '0', '0'),\n",
        "        'p_unfavoured_large_fast_hazardous': calc_prob('0', '1', '1', '1'),\n",
        "        'p_unfavoured_large_fast_nonhazardous': calc_prob('0', '1', '1', '0'),\n",
        "        'p_unfavoured_small_slow_hazardous': calc_prob('0', '0', '0', '1'),\n",
        "        'p_unfavoured_small_slow_nonhazardous': calc_prob('0', '0', '0', '0'),\n",
        "        'p_unfavoured_small_fast_hazardous': calc_prob('0', '0', '1', '1'),\n",
        "        'p_unfavoured_small_fast_nonhazardous': calc_prob('0', '0', '1', '0'),\n",
        "    }\n",
        "\n",
        "    return round(sum(map(\n",
        "        lambda item: log(probs['p_{}_{}_{}_{}'.format(\n",
        "                'unfavoured',\n",
        "                'small' if item[1] == 0 else 'large',\n",
        "                'slow' if item[2] == \"Slow\" else 'fast',\n",
        "                'nonhazardous' if item[3] == 0 else 'hazardous'\n",
        "            )] + probs['p_{}_{}_{}_{}'.format(\n",
        "                'favoured',\n",
        "                'small' if item[1] == 0 else 'large',\n",
        "                'slow' if item[2] == \"Slow\" else 'fast',\n",
        "                'nonhazardous' if item[3] == 0 else 'hazardous'\n",
        "            )]\n",
        "        ),\n",
        "        list(zip(data['Norm'], data['IsLarge'], data['Categorized_Relative_Vel'], data['Hazardous']))\n",
        "    )), 3)\n"
      ]
    },
    {
      "cell_type": "code",
      "execution_count": 422,
      "metadata": {
        "colab": {
          "base_uri": "https://localhost:8080/"
        },
        "id": "7Mnvys47P9TF",
        "outputId": "f76c5351-11e6-4e6f-cf5a-a02753feed2e"
      },
      "outputs": [
        {
          "data": {
            "text/plain": [
              "-49915.85"
            ]
          },
          "execution_count": 422,
          "metadata": {},
          "output_type": "execute_result"
        }
      ],
      "source": [
        "# Listing Calculate the log‐likelihood\n",
        "log_likelihood_neo(test_input, results)\n"
      ]
    },
    {
      "cell_type": "code",
      "execution_count": 423,
      "metadata": {
        "id": "roSL0Et4QASx"
      },
      "outputs": [],
      "source": [
        "# Listing Obtain new object values from the results\n",
        "def to_params(results):\n",
        "    states = results.items()\n",
        "\n",
        "    def calc_norm(islarge_val, rv_val, hazardous_val):\n",
        "        pop = filter_states(filter_states(filter_states(states, QPOS_RV, rv_val), QPOS_dia, islarge_val), QPOS_hazardous, hazardous_val)\n",
        "\n",
        "        p_norm = sum(map(lambda item: item[1], filter_states(pop, QPOS_NORM, '1')))\n",
        "        p_total = sum(map(lambda item: item[1], pop))\n",
        "        return p_norm / p_total\n",
        "\n",
        "\n",
        "    return {\n",
        "        'p_norm_large_slow_hazardous': calc_norm('1', '0', '1'),\n",
        "        'p_norm_large_slow_nonhazardous': calc_norm('1', '0', '0'),\n",
        "        'p_norm_large_fast_hazardous': calc_norm('1', '1', '1'),\n",
        "        'p_norm_large_fast_nonhazardous': calc_norm('1', '1', '0'),\n",
        "        'p_norm_small_slow_hazardous': calc_norm('0', '0', '1'),\n",
        "        'p_norm_small_slow_nonhazardous': calc_norm('0', '0', '0'),\n",
        "        'p_norm_small_fast_hazardous': calc_norm('0', '1', '1'),\n",
        "        'p_norm_small_fast_nonhazardous': calc_norm('0', '1', '0'),\n",
        "    }\n"
      ]
    },
    {
      "cell_type": "code",
      "execution_count": 424,
      "metadata": {
        "colab": {
          "base_uri": "https://localhost:8080/"
        },
        "id": "BaVVlUwkQC5L",
        "outputId": "5c5fdf94-a128-417e-e5b5-9a28582ba205"
      },
      "outputs": [
        {
          "data": {
            "text/plain": [
              "{'p_norm_large_slow_hazardous': 0.45238852749547404,\n",
              " 'p_norm_large_slow_nonhazardous': 0.45778381062698825,\n",
              " 'p_norm_large_fast_hazardous': 0.4721181899190917,\n",
              " 'p_norm_large_fast_nonhazardous': 0.4775435801439691,\n",
              " 'p_norm_small_slow_hazardous': 0.45497950025308315,\n",
              " 'p_norm_small_slow_nonhazardous': 0.46037970567954806,\n",
              " 'p_norm_small_fast_hazardous': 0.47471965863046167,\n",
              " 'p_norm_small_fast_nonhazardous': 0.48014775213199684}"
            ]
          },
          "execution_count": 424,
          "metadata": {},
          "output_type": "execute_result"
        }
      ],
      "source": [
        "# Listing Calcualte new objects\n",
        "to_params(results)\n"
      ]
    },
    {
      "cell_type": "code",
      "execution_count": 425,
      "metadata": {
        "id": "hakr93PpQE1A"
      },
      "outputs": [],
      "source": [
        "# Listing The recursive training automatism\n",
        "def train_qbn_neo(objects, params, iterations):\n",
        "    if iterations > 0:\n",
        "        new_params = train_qbn_neo(objects, params, iterations - 1)\n",
        "\n",
        "        objects = prepare_data(objects, new_params)\n",
        "        results = qbn_neo(calculate_norm_params(objects), calculate_hazardous_params(objects), hist=False)\n",
        "\n",
        "        print ('The log-likelihood after {} iteration(s) is {}'.format(iterations, log_likelihood_neo(objects, results)))\n",
        "        return to_params(results)\n",
        "\n",
        "    return params\n"
      ]
    },
    {
      "cell_type": "code",
      "execution_count": 426,
      "metadata": {
        "colab": {
          "base_uri": "https://localhost:8080/"
        },
        "id": "8iqBDnfkQMkh",
        "outputId": "0c69d0a4-ec5b-4b23-88c2-29ca76611ced"
      },
      "outputs": [
        {
          "name": "stdout",
          "output_type": "stream",
          "text": [
            "The log-likelihood after 1 iteration(s) is -49915.85\n",
            "The log-likelihood after 2 iteration(s) is -49915.718\n",
            "The log-likelihood after 3 iteration(s) is -49915.526\n",
            "The log-likelihood after 4 iteration(s) is -49915.273\n",
            "The log-likelihood after 5 iteration(s) is -49914.953\n",
            "The log-likelihood after 6 iteration(s) is -49914.561\n",
            "The log-likelihood after 7 iteration(s) is -49914.09\n",
            "The log-likelihood after 8 iteration(s) is -49913.531\n",
            "The log-likelihood after 9 iteration(s) is -49912.875\n",
            "The log-likelihood after 10 iteration(s) is -49912.109\n",
            "The log-likelihood after 11 iteration(s) is -49911.223\n",
            "The log-likelihood after 12 iteration(s) is -49910.204\n",
            "The log-likelihood after 13 iteration(s) is -49909.038\n",
            "The log-likelihood after 14 iteration(s) is -49907.712\n",
            "The log-likelihood after 15 iteration(s) is -49906.214\n",
            "The log-likelihood after 16 iteration(s) is -49904.533\n",
            "The log-likelihood after 17 iteration(s) is -49902.664\n",
            "The log-likelihood after 18 iteration(s) is -49900.605\n",
            "The log-likelihood after 19 iteration(s) is -49898.36\n",
            "The log-likelihood after 20 iteration(s) is -49895.945\n",
            "The log-likelihood after 21 iteration(s) is -49893.383\n",
            "The log-likelihood after 22 iteration(s) is -49890.712\n",
            "The log-likelihood after 23 iteration(s) is -49887.983\n",
            "The log-likelihood after 24 iteration(s) is -49885.258\n",
            "The log-likelihood after 25 iteration(s) is -49882.612\n"
          ]
        }
      ],
      "source": [
        "# Listing Train the QBN\n",
        "test_params = train_qbn_neo(test_input, {\n",
        "    'p_norm_large_slow_hazardous': 0.45,\n",
        "    'p_norm_large_slow_nonhazardous': 0.46,\n",
        "    'p_norm_large_fast_hazardous': 0.47,\n",
        "    'p_norm_large_fast_nonhazardous': 0.48,\n",
        "    'p_norm_small_slow_hazardous': 0.49,\n",
        "    'p_norm_small_slow_nonhazardous': 0.51,\n",
        "    'p_norm_small_fast_hazardous': 0.52,\n",
        "    'p_norm_small_fast_nonhazardous': 0.53,\n",
        "}, 25)\n"
      ]
    },
    {
      "cell_type": "code",
      "execution_count": 427,
      "metadata": {
        "colab": {
          "base_uri": "https://localhost:8080/"
        },
        "id": "Gvvh0eWUQOsf",
        "outputId": "af09586f-f86a-4a11-8698-9d2ad1e40853"
      },
      "outputs": [
        {
          "data": {
            "text/plain": [
              "{'p_norm_large_slow_hazardous': 0.7796128340298285,\n",
              " 'p_norm_large_slow_nonhazardous': 0.6657193077663542,\n",
              " 'p_norm_large_fast_hazardous': 0.8108952682185933,\n",
              " 'p_norm_large_fast_nonhazardous': 0.7070943179196169,\n",
              " 'p_norm_small_slow_hazardous': 0.7567090402657648,\n",
              " 'p_norm_small_slow_nonhazardous': 0.6364979427698882,\n",
              " 'p_norm_small_fast_hazardous': 0.790501002545843,\n",
              " 'p_norm_small_fast_nonhazardous': 0.6799241985658918}"
            ]
          },
          "execution_count": 427,
          "metadata": {},
          "output_type": "execute_result"
        }
      ],
      "source": [
        "# Listing The parameters after training\n",
        "test_params\n"
      ]
    },
    {
      "cell_type": "code",
      "execution_count": 428,
      "metadata": {
        "id": "rBSJ2JDcQUhm"
      },
      "outputs": [],
      "source": [
        "# Listing Pre‐processing\n",
        "def pre_process(object):\n",
        "    return (object['IsLarge'] == 1, object['Categorized_Relative_Vel'] == 'Fast', object['Categorised_Miss_Distance'])\n"
      ]
    },
    {
      "cell_type": "code",
      "execution_count": 429,
      "metadata": {
        "id": "hcyqRbjTQWXD"
      },
      "outputs": [],
      "source": [
        "# Listing Apply the known data on the quantum circuit\n",
        "def apply_known(qc, is_large, is_fast, missDistance):\n",
        "    if is_large:\n",
        "        qc.x(QPOS_dia)\n",
        "\n",
        "    if is_fast:\n",
        "        qc.x(QPOS_RV)\n",
        "\n",
        "    qc.x(QPOS_more if missDistance == \"More\" else (QPOS_med if missDistance == \"Medium\" else QPOS_less))\n"
      ]
    },
    {
      "cell_type": "code",
      "execution_count": 430,
      "metadata": {
        "id": "FsRDeq38QaZz"
      },
      "outputs": [],
      "source": [
        "# Listing Get the trained QBN\n",
        "def get_trained_qbn(objects, params):\n",
        "\n",
        "    prepared_objects = prepare_data(objects, params)\n",
        "    norm_params = calculate_norm_params(prepared_objects)\n",
        "    hazardous_params = calculate_hazardous_params(prepared_objects)\n",
        "\n",
        "    def trained_qbn_neo(object):\n",
        "        (is_large, is_fast, missDistance) = object\n",
        "\n",
        "        def circuit(qc, qr, cr):\n",
        "            apply_known(qc, is_large, is_fast, missDistance)\n",
        "            apply_norm(qc, norm_params)\n",
        "            apply_hazardous(qc, hazardous_params)\n",
        "\n",
        "            qc.measure(qr[QPOS_hazardous], cr[0])\n",
        "\n",
        "        return as_pqc(QUBITS, circuit, hist=False, measure=True, shots=100)\n",
        "\n",
        "    return trained_qbn_neo\n"
      ]
    },
    {
      "cell_type": "code",
      "execution_count": 431,
      "metadata": {
        "id": "uNIWuP3QQdS9"
      },
      "outputs": [],
      "source": [
        "# Listing Post‐processing\n",
        "def post_process(counts):\n",
        "    \"\"\"\n",
        "    counts -- the result of the quantum circuit execution\n",
        "    returns the prediction\n",
        "    \"\"\"\n",
        "    #print (counts)\n",
        "    p_hazardous = counts['1'] if '1' in counts.keys() else 0\n",
        "    p_nonhazardous = counts['0'] if '0' in counts.keys() else 0\n",
        "\n",
        "    #return int(list(map(lambda item: item[0], counts.items()))[0])\n",
        "    return 1 if p_hazardous > p_nonhazardous else 0\n"
      ]
    },
    {
      "cell_type": "code",
      "execution_count": 432,
      "metadata": {
        "id": "hW1iwOXAQfsP"
      },
      "outputs": [],
      "source": [
        "# Preparing Report\n",
        "def run(f_classify, x):\n",
        "    return list(map(f_classify, x))\n",
        "\n",
        "def specificity(matrix):\n",
        "    return matrix[0][0]/(matrix[0][0]+matrix[0][1]) if (matrix[0][0]+matrix[0][1] > 0) else 0\n",
        "\n",
        "def npv(matrix):\n",
        "    return matrix[0][0]/(matrix[0][0]+matrix[1][0]) if (matrix[0][0]+matrix[1][0] > 0) else 0\n"
      ]
    },
    {
      "cell_type": "code",
      "execution_count": 433,
      "metadata": {
        "id": "kz97cbZqQmjP"
      },
      "outputs": [],
      "source": [
        "def classifier_report(name, run, classify, input, labels):\n",
        "    cr_predictions = run(classify, input)\n",
        "    cr_cm = confusion_matrix(labels, cr_predictions)\n",
        "    output = pd.DataFrame(list(zip(labels, cr_predictions)), columns=['Labels', 'Predictions'])\n",
        "    output.to_csv('output.csv')\n",
        "    cr_precision = precision_score(labels, cr_predictions)\n",
        "    cr_recall = recall_score(labels, cr_predictions)\n",
        "    cr_specificity = specificity(cr_cm)\n",
        "    cr_npv = npv(cr_cm)\n",
        "    cr_level = 0.25*(cr_precision + cr_recall + cr_specificity + cr_npv)\n",
        "\n",
        "    print(\"Confusion Matrix is:\")\n",
        "    print(cr_cm)\n",
        "\n",
        "    print('The precision score of the {} classifier is {}'\n",
        "        .format(name, cr_precision))\n",
        "    print('The recall score of the {} classifier is {}'\n",
        "        .format(name, cr_recall))\n",
        "    print('The specificity score of the {} classifier is {}'\n",
        "        .format(name, cr_specificity))\n",
        "    print('The npv score of the {} classifier is {}'\n",
        "        .format(name, cr_npv))\n",
        "    print('The information level is: {}'\n",
        "        .format(cr_level))\n"
      ]
    },
    {
      "cell_type": "code",
      "execution_count": 434,
      "metadata": {
        "id": "Uwc9a4RuQpG3"
      },
      "outputs": [],
      "source": [
        "# Listing Run the Quantum Naive Bayes Classifier\n",
        "# redefine the run-function\n",
        "def run(f_classify, data):\n",
        "    return [f_classify(data.iloc[i]) for i in range(0,len(data))]\n"
      ]
    },
    {
      "cell_type": "code",
      "execution_count": 435,
      "metadata": {
        "id": "WK2Crqw7QrSa"
      },
      "outputs": [],
      "source": [
        "# get the simple qbn\n",
        "trained_qbn = get_trained_qbn(test_input, test_params)\n"
      ]
    },
    {
      "cell_type": "code",
      "execution_count": 439,
      "metadata": {
        "colab": {
          "base_uri": "https://localhost:8080/",
          "height": 192
        },
        "id": "MKPdtATdQts6",
        "outputId": "26ac3924-5c32-45cf-bae5-7446495e80ad"
      },
      "outputs": [
        {
          "name": "stdout",
          "output_type": "stream",
          "text": [
            "Confusion Matrix\n",
            "[[29601  3188]\n",
            " [  652  2894]]\n",
            "The accuracy score of the QBN classifier is 89.43167744598871\n",
            "The precision score of the QBN classifier is 47.58303189740217\n",
            "The recall score of the QBN classifier is 81.61308516638466\n",
            "The specificity score of the QBN classifier is 90.27722711885083\n",
            "The npv score of the QBN classifier is 97.84484183386772\n",
            "The information level is: 79.32954650412634\n"
          ]
        }
      ],
      "source": [
        "# evaluate the Quantum Bayesian Network\n",
        "classifier_report(\"QBN\",\n",
        "    run,\n",
        "    lambda object: post_process(trained_qbn(pre_process(object))),\n",
        "    objects,\n",
        "    test_input['Hazardous'])\n"
      ]
    }
  ],
  "metadata": {
    "colab": {
      "provenance": []
    },
    "kernelspec": {
      "display_name": "Python 3",
      "name": "python3"
    },
    "language_info": {
      "codemirror_mode": {
        "name": "ipython",
        "version": 3
      },
      "file_extension": ".py",
      "mimetype": "text/x-python",
      "name": "python",
      "nbconvert_exporter": "python",
      "pygments_lexer": "ipython3",
      "version": "3.11.6"
    }
  },
  "nbformat": 4,
  "nbformat_minor": 0
}
